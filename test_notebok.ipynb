{
 "cells": [
  {
   "cell_type": "code",
   "execution_count": 1,
   "metadata": {},
   "outputs": [],
   "source": [
    "import asyncio\n",
    "import pandas as pd\n",
    "from coworker.modules.coworker import Coworker\n",
    "\n",
    "coworker = Coworker()"
   ]
  },
  {
   "cell_type": "code",
   "execution_count": 3,
   "metadata": {},
   "outputs": [
    {
     "name": "stdout",
     "output_type": "stream",
     "text": [
      "To provide Costco's and Apple's assets and liabilities for the past 5 years, I would similarly analyze their respective balance sheets from the quarterly financial statements, which detail their assets and liabilities over the given time period.\n",
      "\n",
      "WITH target_companies AS (\n",
      "  SELECT company_id\n",
      "  FROM companies\n",
      "  WHERE name ILIKE '%Costco%' OR name ILIKE '%Apple%'\n",
      "),\n",
      "relevant_dates AS (\n",
      "  SELECT DISTINCT date\n",
      "  FROM balance_sheet\n",
      "  WHERE date >= CURRENT_DATE - INTERVAL '5 years'\n",
      "),\n",
      "target_data AS (\n",
      "  SELECT tc.company_id, rd.date, bs.total_assets, bs.total_liab\n",
      "  FROM target_companies tc\n",
      "  JOIN relevant_dates rd ON TRUE\n",
      "  JOIN balance_sheet bs ON tc.company_id = bs.company_id AND rd.date = bs.date\n",
      ")\n",
      "SELECT c.name, td.date, td.total_assets, td.total_liab\n",
      "FROM target_data td\n",
      "JOIN companies c ON td.company_id = c.company_id\n",
      "ORDER BY c.name, td.date;\n",
      "\n",
      "        Name        Date  Total Assets    Total Liab\n",
      "0  Apple Inc  2018-06-30  349000000000  234000000000\n",
      "1  Apple Inc  2018-09-30  366000000000  259000000000\n",
      "2  Apple Inc  2018-12-31  374000000000  256000000000\n",
      "3  Apple Inc  2019-03-31  342000000000  236000000000\n",
      "4  Apple Inc  2019-06-30  322000000000  226000000000\n"
     ]
    }
   ],
   "source": [
    "question = '''\n",
    "How about Costco and Apple?\n",
    "'''\n",
    "\n",
    "# Create tasks\n",
    "task_summary = asyncio.create_task(coworker.generate_summary(question))\n",
    "task_query_and_data = asyncio.create_task(coworker.process_query_and_data(question))\n",
    "\n",
    "# Await tasks concurrently\n",
    "summary, (query, data) = await asyncio.gather(task_summary, task_query_and_data)\n",
    "\n",
    "print(summary)\n",
    "print('')\n",
    "print(query)\n",
    "print('')\n",
    "if data != 'Apologies. I cannot figure out a way to answer this request.':\n",
    "    print(pd.DataFrame(data).head())\n",
    "else:\n",
    "    print(data)"
   ]
  },
  {
   "cell_type": "code",
   "execution_count": null,
   "metadata": {},
   "outputs": [],
   "source": []
  }
 ],
 "metadata": {
  "kernelspec": {
   "display_name": "coworker-M5fFh2io",
   "language": "python",
   "name": "python3"
  },
  "language_info": {
   "codemirror_mode": {
    "name": "ipython",
    "version": 3
   },
   "file_extension": ".py",
   "mimetype": "text/x-python",
   "name": "python",
   "nbconvert_exporter": "python",
   "pygments_lexer": "ipython3",
   "version": "3.11.3"
  },
  "orig_nbformat": 4
 },
 "nbformat": 4,
 "nbformat_minor": 2
}
