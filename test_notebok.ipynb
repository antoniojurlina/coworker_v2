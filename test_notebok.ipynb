{
 "cells": [
  {
   "attachments": {},
   "cell_type": "markdown",
   "metadata": {},
   "source": [
    "## General Coworker Test"
   ]
  },
  {
   "cell_type": "code",
   "execution_count": 1,
   "metadata": {},
   "outputs": [],
   "source": [
    "# Testing setup (re-run to clear history)\n",
    "\n",
    "import asyncio\n",
    "import pandas as pd\n",
    "from coworker.modules.coworker import Coworker\n",
    "\n",
    "coworker = Coworker()\n",
    "message_history = []\n",
    "\n",
    "async def print_and_store_results_future(future, task):\n",
    "    result = await future\n",
    "    description = task['description']\n",
    "    \n",
    "    if description == 'info':\n",
    "        if result:\n",
    "            print(\"Here is some info to begin with:\\n\")\n",
    "            print(pd.DataFrame(result))\n",
    "            print('')\n",
    "    elif description == 'summary':\n",
    "        message_history[-1]['content'] += '\\n\\n' + result\n",
    "        print(result)\n",
    "        print('')\n",
    "    elif description == 'query_and_data':\n",
    "        query, data = result\n",
    "        message_history[-1]['content'] += '\\n\\n' + query\n",
    "        print(query)\n",
    "        print('')\n",
    "        if data != 'Apologies. I cannot figure out a way to answer this request.':\n",
    "            print(pd.DataFrame(data).head())\n",
    "        else:\n",
    "            print(data)\n",
    "\n",
    "async def main(question):\n",
    "    message_history.append({\"role\":\"user\", \"content\":question})\n",
    "    # Create tasks\n",
    "    tasks = [\n",
    "        {'task': asyncio.create_task(coworker.get_info_from_text(message_history)), 'description': 'info'},\n",
    "        {'task': asyncio.create_task(coworker.generate_summary(message_history)), 'description': 'summary'},\n",
    "        {'task': asyncio.create_task(coworker.process_query_and_data(message_history)), 'description': 'query_and_data'}\n",
    "    ]\n",
    "    message_history.append({\"role\":\"assistant\", \"content\":''})\n",
    "\n",
    "    # Await tasks concurrently and print results as they come\n",
    "    for task in tasks:\n",
    "        future = task['task']\n",
    "        await print_and_store_results_future(future, task)"
   ]
  },
  {
   "cell_type": "code",
   "execution_count": 6,
   "metadata": {},
   "outputs": [
    {
     "name": "stdout",
     "output_type": "stream",
     "text": [
      "Here is some info to begin with:\n",
      "\n",
      "   Code                   Name Exchange CurrencyCode              Sector  \\\n",
      "0  COST  Costco Wholesale Corp   NASDAQ          USD  Consumer Defensive   \n",
      "\n",
      "          Industry                                        Description  \\\n",
      "0  Discount Stores  Costco Wholesale Corporation, together with it...   \n",
      "\n",
      "                                                 CEO     IPODate  \\\n",
      "0  {'Name': 'Mr. W. Craig Jelinek', 'Title': 'CEO...  1993-09-22   \n",
      "\n",
      "         Country      City  \n",
      "0  United States  Issaquah  \n",
      "\n",
      "I reviewed Microsoft's quarterly income statements, cash flow statements, balance sheets, and daily share price data for the year . I then calculated the EBITDA for each quarter and summed them up to get the total EBITDA for the year.\n",
      "\n",
      "SELECT SUM(i.ebitda) AS annual_ebitda\n",
      "FROM income_statement AS i\n",
      "JOIN companies AS c ON c.company_id = i.company_id\n",
      "WHERE c.name ILIKE '%Microsoft%'\n",
      "AND EXTRACT(YEAR FROM i.date) = 2005;\n",
      "\n",
      "  Annual Ebitda\n",
      "0   18404000000\n"
     ]
    }
   ],
   "source": [
    "# Run main coroutine with the question as an argument\n",
    "question = \"\"\"Can you aggregate that for the whole year?\"\"\"\n",
    "await main(question)"
   ]
  },
  {
   "cell_type": "code",
   "execution_count": 7,
   "metadata": {},
   "outputs": [
    {
     "data": {
      "text/plain": [
       "[{'role': 'user', 'content': \"What was apple's ebitda in 2005?\"},\n",
       " {'role': 'assistant',\n",
       "  'content': \"\\n\\nI reviewed Apple's annual report for  and extracted the necessary financial data. EBITDA is not directly reported in financial statements, so I calculated it by adding back Interest, Taxes, Depreciation, and Amortization to the Net Income.\\n\\nSELECT i.ebitda\\nFROM income_statement AS i\\nJOIN companies AS c ON c.company_id = i.company_id\\nWHERE c.name ILIKE '%Apple%'\\nAND EXTRACT(YEAR FROM i.date) = 2005;\"},\n",
       " {'role': 'user',\n",
       "  'content': 'Can you do the same for Microsoft but give me one number for the whole year?'},\n",
       " {'role': 'assistant',\n",
       "  'content': \"\\n\\nI reviewed Microsoft's annual report for  and extracted the necessary financial data. Similar to Apple, EBITDA is not directly reported in financial statements, so I calculated it by adding back Interest, Taxes, Depreciation, and Amortization to the Net Income. This gave me the EBITDA for the entire year of  for Microsoft.\\n\\nSELECT i.ebitda\\nFROM income_statement AS i\\nJOIN companies AS c ON c.company_id = i.company_id\\nWHERE c.name ILIKE '%Microsoft%'\\nAND EXTRACT(YEAR FROM i.date) = 2005;\"},\n",
       " {'role': 'user', 'content': 'Can you aggregate that for the whole year?'},\n",
       " {'role': 'assistant',\n",
       "  'content': \"\\n\\nI reviewed Microsoft's quarterly income statements, cash flow statements, balance sheets, and daily share price data for the year . I then calculated the EBITDA for each quarter and summed them up to get the total EBITDA for the year.\\n\\nSELECT SUM(i.ebitda) AS annual_ebitda\\nFROM income_statement AS i\\nJOIN companies AS c ON c.company_id = i.company_id\\nWHERE c.name ILIKE '%Microsoft%'\\nAND EXTRACT(YEAR FROM i.date) = 2005;\"}]"
      ]
     },
     "execution_count": 7,
     "metadata": {},
     "output_type": "execute_result"
    }
   ],
   "source": [
    "message_history"
   ]
  },
  {
   "attachments": {},
   "cell_type": "markdown",
   "metadata": {},
   "source": [
    "## EOD data test"
   ]
  },
  {
   "cell_type": "code",
   "execution_count": null,
   "metadata": {},
   "outputs": [],
   "source": [
    "from eod import EodHistoricalData\n",
    "from coworker.config.keys import EOD_KEY\n",
    "import json\n",
    "import re\n",
    "\n",
    "client = EodHistoricalData(EOD_KEY)\n",
    "\n",
    "with open('coworker/data/companies.json', 'r') as f:\n",
    "    companies_dict = json.load(f)"
   ]
  },
  {
   "cell_type": "code",
   "execution_count": null,
   "metadata": {},
   "outputs": [],
   "source": [
    "def get_info_from_text(text):\n",
    "    text = re.sub('[^A-Za-z0-9& ]+', '', text)  # remove special characters\n",
    "    words_company = [word for word in text.split(' ') if len(word) >= 4]\n",
    "    words_ticker = [word for word in text.split(' ') if len(word) >= 2]\n",
    "    \n",
    "    tickers = []\n",
    "    for word in words_company:\n",
    "        for company, ticker in companies_dict.items():\n",
    "            if word.lower() in company.lower():\n",
    "                if ticker not in tickers:  # to avoid duplicate entries\n",
    "                    tickers.append(ticker)\n",
    "    \n",
    "    for word in words_ticker:\n",
    "        for company, ticker in companies_dict.items():\n",
    "            if word == ticker:\n",
    "                if ticker not in tickers:  # to avoid duplicate entries\n",
    "                    tickers.append(ticker)\n",
    "\n",
    "    info_dict = {\n",
    "        'Code': [],\n",
    "        'Name': [],\n",
    "        'Exchange': [],\n",
    "        'CurrencyCode': [],\n",
    "        'Sector': [],\n",
    "        'Industry': [],\n",
    "        'Description': [],\n",
    "        'CEO': [],\n",
    "        'IPODate': [],\n",
    "        'Country': [],\n",
    "        'City': []\n",
    "    }\n",
    "\n",
    "    for ticker in tickers:\n",
    "        info = client.get_fundamental_equity(ticker, filter_='General')\n",
    "        \n",
    "        info_dict['Code'].append(info['Code'])\n",
    "        info_dict['Name'].append(info['Name'])\n",
    "        info_dict['Exchange'].append(info['Exchange'])\n",
    "        info_dict['CurrencyCode'].append(info['CurrencyCode'])\n",
    "        info_dict['Sector'].append(info['Sector'])\n",
    "        info_dict['Industry'].append(info['Industry'])\n",
    "        info_dict['Description'].append(info['Description'])\n",
    "        info_dict['CEO'].append(info['Officers']['0'])\n",
    "        info_dict['IPODate'].append(info['IPODate'])\n",
    "        info_dict['Country'].append(info['AddressData']['Country'])\n",
    "        info_dict['City'].append(info['AddressData']['City'])\n",
    "\n",
    "    return info_dict"
   ]
  },
  {
   "cell_type": "code",
   "execution_count": null,
   "metadata": {},
   "outputs": [],
   "source": [
    "text = \"I would like to see assets and liabilities for Apple, Amazon! and Microsoft and Zoom - Blizzard, ASML, ABT, at&t! ACCENTURE, Costco\"\n",
    "get_info_from_text(text)"
   ]
  },
  {
   "cell_type": "code",
   "execution_count": null,
   "metadata": {},
   "outputs": [],
   "source": []
  }
 ],
 "metadata": {
  "kernelspec": {
   "display_name": "coworker-M5fFh2io",
   "language": "python",
   "name": "python3"
  },
  "language_info": {
   "codemirror_mode": {
    "name": "ipython",
    "version": 3
   },
   "file_extension": ".py",
   "mimetype": "text/x-python",
   "name": "python",
   "nbconvert_exporter": "python",
   "pygments_lexer": "ipython3",
   "version": "3.11.3"
  },
  "orig_nbformat": 4
 },
 "nbformat": 4,
 "nbformat_minor": 2
}
