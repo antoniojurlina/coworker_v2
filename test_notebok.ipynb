{
 "cells": [
  {
   "cell_type": "code",
   "execution_count": 1,
   "metadata": {},
   "outputs": [],
   "source": [
    "import asyncio\n",
    "from coworker.modules.coworker import Coworker\n",
    "\n",
    "coworker = Coworker()"
   ]
  },
  {
   "cell_type": "code",
   "execution_count": 2,
   "metadata": {},
   "outputs": [
    {
     "name": "stdout",
     "output_type": "stream",
     "text": [
      "To calculate the average EBITDA for the past 5 years for the top 2 companies, I would first identify the top 2 companies based on market capitalization or another relevant metric. Then, I would gather their quarterly income statements and calculate EBITDA for each quarter by adding back interest, taxes, depreciation, and amortization to net income. Finally, I would average the EBITDA figures over the 20 quarters (5 years) for each company.\n",
      "\n",
      "WITH ebitda_past_5_years AS (\n",
      "  SELECT\n",
      "    company_id,\n",
      "    AVG(ebitda) AS avg_ebitda\n",
      "  FROM\n",
      "    income_statement\n",
      "  WHERE\n",
      "    date >= CURRENT_DATE - INTERVAL '5 years'\n",
      "  GROUP BY\n",
      "    company_id\n",
      "),\n",
      "top_2_companies AS (\n",
      "  SELECT\n",
      "    company_id,\n",
      "    avg_ebitda\n",
      "  FROM\n",
      "    ebitda_past_5_years\n",
      "  ORDER BY\n",
      "    avg_ebitda DESC\n",
      "  LIMIT 2\n",
      ")\n",
      "SELECT\n",
      "  c.name,\n",
      "  t.avg_ebitda\n",
      "FROM\n",
      "  top_2_companies t\n",
      "  JOIN companies c ON t.company_id = c.company_id;\n",
      "\n",
      "                    Name            Avg Ebitda\n",
      "0              Apple Inc  25444600000.00000000\n",
      "1  Microsoft Corporation  20015800000.00000000\n"
     ]
    }
   ],
   "source": [
    "question = '''\n",
    "can you show average EBITDA for the past 5 years for top 2 companies only?\n",
    "'''\n",
    "\n",
    "# Create tasks\n",
    "task_summary = asyncio.create_task(coworker.generate_summary(question))\n",
    "task_query_and_data = asyncio.create_task(coworker.process_query_and_data(question))\n",
    "\n",
    "# Await tasks concurrently\n",
    "summary, (query, data) = await asyncio.gather(task_summary, task_query_and_data)\n",
    "\n",
    "print(summary)\n",
    "print('')\n",
    "print(query)\n",
    "print('')\n",
    "print(data)"
   ]
  },
  {
   "cell_type": "code",
   "execution_count": null,
   "metadata": {},
   "outputs": [],
   "source": []
  }
 ],
 "metadata": {
  "kernelspec": {
   "display_name": "coworker-M5fFh2io",
   "language": "python",
   "name": "python3"
  },
  "language_info": {
   "codemirror_mode": {
    "name": "ipython",
    "version": 3
   },
   "file_extension": ".py",
   "mimetype": "text/x-python",
   "name": "python",
   "nbconvert_exporter": "python",
   "pygments_lexer": "ipython3",
   "version": "3.11.3"
  },
  "orig_nbformat": 4
 },
 "nbformat": 4,
 "nbformat_minor": 2
}
