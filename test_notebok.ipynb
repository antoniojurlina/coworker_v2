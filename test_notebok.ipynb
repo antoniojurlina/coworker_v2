{
 "cells": [
  {
   "cell_type": "code",
   "execution_count": 1,
   "metadata": {},
   "outputs": [],
   "source": [
    "import asyncio\n",
    "import pandas as pd\n",
    "from coworker.modules.coworker import Coworker\n",
    "\n",
    "coworker = Coworker()"
   ]
  },
  {
   "cell_type": "code",
   "execution_count": 2,
   "metadata": {},
   "outputs": [],
   "source": [
    "question = '''\n",
    "Can you show me Alphabet's and Meta's assets and liabilities for the past 5 years?\n",
    "'''\n",
    "\n",
    "# Create tasks\n",
    "task_summary = asyncio.create_task(coworker.generate_summary(question))\n",
    "task_query_and_data = asyncio.create_task(coworker.process_query_and_data(question))\n",
    "\n",
    "# Await tasks concurrently\n",
    "summary, (query, data) = await asyncio.gather(task_summary, task_query_and_data)\n",
    "\n",
    "print(summary)\n",
    "print('')\n",
    "print(query)\n",
    "print('')\n",
    "if data != 'Apologies. I cannot figure out a way to answer this request.':\n",
    "    print(pd.DataFrame(data).head())\n",
    "else:\n",
    "    print(data)"
   ]
  }
 ],
 "metadata": {
  "kernelspec": {
   "display_name": "coworker-M5fFh2io",
   "language": "python",
   "name": "python3"
  },
  "language_info": {
   "codemirror_mode": {
    "name": "ipython",
    "version": 3
   },
   "file_extension": ".py",
   "mimetype": "text/x-python",
   "name": "python",
   "nbconvert_exporter": "python",
   "pygments_lexer": "ipython3",
   "version": "3.11.3"
  },
  "orig_nbformat": 4
 },
 "nbformat": 4,
 "nbformat_minor": 2
}
