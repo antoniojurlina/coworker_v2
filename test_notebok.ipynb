{
 "cells": [
  {
   "attachments": {},
   "cell_type": "markdown",
   "metadata": {},
   "source": [
    "## General Coworker Test"
   ]
  },
  {
   "cell_type": "code",
   "execution_count": 1,
   "metadata": {},
   "outputs": [],
   "source": [
    "# Testing setup (re-run to clear history)\n",
    "\n",
    "import asyncio\n",
    "import pandas as pd\n",
    "from coworker.modules.coworker import Coworker\n",
    "\n",
    "coworker = Coworker()\n",
    "message_history = []\n",
    "\n",
    "async def print_and_store_results_future(future, task):\n",
    "    result = await future\n",
    "    description = task['description']\n",
    "    \n",
    "    if description == 'info':\n",
    "        if result:\n",
    "            print(\"Here is some info to begin with:\\n\")\n",
    "            print(pd.DataFrame(result))\n",
    "            print('')\n",
    "    elif description == 'summary':\n",
    "        message_history[-1]['content'] += '\\n\\n' + result\n",
    "        print(result)\n",
    "        print('')\n",
    "    elif description == 'query_and_data':\n",
    "        query, data = result\n",
    "        message_history[-1]['content'] += '\\n\\n' + query\n",
    "        print(query)\n",
    "        print('')\n",
    "        if data != 'Apologies. I cannot figure out a way to answer this request.':\n",
    "            print(pd.DataFrame(data).head())\n",
    "        else:\n",
    "            print(data)\n",
    "\n",
    "async def main(question):\n",
    "    message_history.append({\"role\":\"user\", \"content\":question})\n",
    "    # Create tasks\n",
    "    tasks = [\n",
    "        {'task': asyncio.create_task(coworker.get_info_from_text(message_history)), 'description': 'info'},\n",
    "        {'task': asyncio.create_task(coworker.generate_summary(message_history)), 'description': 'summary'},\n",
    "        {'task': asyncio.create_task(coworker.process_query_and_data(message_history)), 'description': 'query_and_data'}\n",
    "    ]\n",
    "    message_history.append({\"role\":\"assistant\", \"content\":''})\n",
    "\n",
    "    # Await tasks concurrently and print results as they come\n",
    "    for task in tasks:\n",
    "        future = task['task']\n",
    "        await print_and_store_results_future(future, task)"
   ]
  },
  {
   "cell_type": "code",
   "execution_count": 6,
   "metadata": {},
   "outputs": [
    {
     "name": "stdout",
     "output_type": "stream",
     "text": [
      "Here is some info to begin with:\n",
      "\n",
      "   Code                   Name Exchange CurrencyCode              Sector  \\\n",
      "0  COST  Costco Wholesale Corp   NASDAQ          USD  Consumer Defensive   \n",
      "\n",
      "          Industry                                        Description  \\\n",
      "0  Discount Stores  Costco Wholesale Corporation, together with it...   \n",
      "\n",
      "                                                 CEO     IPODate  \\\n",
      "0  {'Name': 'Mr. W. Craig Jelinek', 'Title': 'CEO...  1993-09-22   \n",
      "\n",
      "         Country      City  \n",
      "0  United States  Issaquah  \n",
      "\n",
      "I reviewed Microsoft's quarterly income statements, cash flow statements, balance sheets, and daily share price data for the year . I then calculated the EBITDA for each quarter and summed them up to get the total EBITDA for the year.\n",
      "\n",
      "SELECT SUM(i.ebitda) AS annual_ebitda\n",
      "FROM income_statement AS i\n",
      "JOIN companies AS c ON c.company_id = i.company_id\n",
      "WHERE c.name ILIKE '%Microsoft%'\n",
      "AND EXTRACT(YEAR FROM i.date) = 2005;\n",
      "\n",
      "  Annual Ebitda\n",
      "0   18404000000\n"
     ]
    }
   ],
   "source": [
    "# Run main coroutine with the question as an argument\n",
    "question = \"\"\"\n",
    "Can you aggregate that for the whole year?\n",
    "\"\"\"\n",
    "\n",
    "await main(question)"
   ]
  },
  {
   "cell_type": "code",
   "execution_count": 7,
   "metadata": {},
   "outputs": [
    {
     "data": {
      "text/plain": [
       "[{'role': 'user', 'content': \"What was apple's ebitda in 2005?\"},\n",
       " {'role': 'assistant',\n",
       "  'content': \"\\n\\nI reviewed Apple's annual report for  and extracted the necessary financial data. EBITDA is not directly reported in financial statements, so I calculated it by adding back Interest, Taxes, Depreciation, and Amortization to the Net Income.\\n\\nSELECT i.ebitda\\nFROM income_statement AS i\\nJOIN companies AS c ON c.company_id = i.company_id\\nWHERE c.name ILIKE '%Apple%'\\nAND EXTRACT(YEAR FROM i.date) = 2005;\"},\n",
       " {'role': 'user',\n",
       "  'content': 'Can you do the same for Microsoft but give me one number for the whole year?'},\n",
       " {'role': 'assistant',\n",
       "  'content': \"\\n\\nI reviewed Microsoft's annual report for  and extracted the necessary financial data. Similar to Apple, EBITDA is not directly reported in financial statements, so I calculated it by adding back Interest, Taxes, Depreciation, and Amortization to the Net Income. This gave me the EBITDA for the entire year of  for Microsoft.\\n\\nSELECT i.ebitda\\nFROM income_statement AS i\\nJOIN companies AS c ON c.company_id = i.company_id\\nWHERE c.name ILIKE '%Microsoft%'\\nAND EXTRACT(YEAR FROM i.date) = 2005;\"},\n",
       " {'role': 'user', 'content': 'Can you aggregate that for the whole year?'},\n",
       " {'role': 'assistant',\n",
       "  'content': \"\\n\\nI reviewed Microsoft's quarterly income statements, cash flow statements, balance sheets, and daily share price data for the year . I then calculated the EBITDA for each quarter and summed them up to get the total EBITDA for the year.\\n\\nSELECT SUM(i.ebitda) AS annual_ebitda\\nFROM income_statement AS i\\nJOIN companies AS c ON c.company_id = i.company_id\\nWHERE c.name ILIKE '%Microsoft%'\\nAND EXTRACT(YEAR FROM i.date) = 2005;\"}]"
      ]
     },
     "execution_count": 7,
     "metadata": {},
     "output_type": "execute_result"
    }
   ],
   "source": [
    "message_history"
   ]
  },
  {
   "attachments": {},
   "cell_type": "markdown",
   "metadata": {},
   "source": [
    "## FastAPI Coworker Test"
   ]
  },
  {
   "cell_type": "code",
   "execution_count": 25,
   "metadata": {},
   "outputs": [],
   "source": [
    "# initialize the endpoint using: uvicorn main:app --reload\n",
    "import asyncio\n",
    "import aiohttp\n",
    "import json\n",
    "\n",
    "# Define the local URL of your FastAPI application\n",
    "url = 'http://localhost:8000/'\n",
    "\n",
    "message_history = []\n",
    "\n",
    "def print_and_store_results_future(result, task_description):\n",
    "    if task_description == 'get_info_from_text':\n",
    "        if result:\n",
    "            data = result['data']\n",
    "            print(\"Here is some info to begin with:\\n\")\n",
    "            print(json.dumps(result, indent=4))\n",
    "            print('')\n",
    "    elif task_description == 'generate_summary':\n",
    "        if isinstance(result, dict) and 'summary' in result:\n",
    "            summary = result['summary']\n",
    "            message_history[-1]['content'] += '\\n\\n' + summary\n",
    "            print(summary)\n",
    "            print('')\n",
    "    elif task_description == 'process_query_and_data':\n",
    "        if isinstance(result, dict) and 'query' in result and 'data' in result:\n",
    "            query, data = result['query'], result['data']\n",
    "            message_history[-1]['content'] += '\\n\\n' + query\n",
    "            print(query)\n",
    "            print('')\n",
    "            print(json.dumps(data, indent=4))\n",
    "            print('')\n",
    "\n",
    "async def send_request(session, task):\n",
    "    async with session.post(url + task, json={'message_history': message_history}) as resp:\n",
    "        result = await resp.json()\n",
    "        print_and_store_results_future(result, task)\n",
    "\n",
    "async def main(question):\n",
    "    message_history.append({\"role\":\"user\", \"content\":question})\n",
    "\n",
    "    # Define the endpoints to test\n",
    "    tasks = ['process_query_and_data', 'generate_summary', 'get_info_from_text']\n",
    "\n",
    "    message_history.append({\"role\":\"assistant\", \"content\":''})\n",
    "\n",
    "    async with aiohttp.ClientSession() as session:\n",
    "        # Send POST requests to the endpoints and print the results\n",
    "        await asyncio.gather(*(send_request(session, task) for task in tasks))\n"
   ]
  },
  {
   "cell_type": "code",
   "execution_count": 29,
   "metadata": {},
   "outputs": [
    {
     "name": "stdout",
     "output_type": "stream",
     "text": [
      "Here is some info to begin with:\n",
      "\n",
      "{\n",
      "    \"data\": {\n",
      "        \"Code\": [\n",
      "            \"MSFT\",\n",
      "            \"COST\"\n",
      "        ],\n",
      "        \"Name\": [\n",
      "            \"Microsoft Corporation\",\n",
      "            \"Costco Wholesale Corp\"\n",
      "        ],\n",
      "        \"Exchange\": [\n",
      "            \"NASDAQ\",\n",
      "            \"NASDAQ\"\n",
      "        ],\n",
      "        \"CurrencyCode\": [\n",
      "            \"USD\",\n",
      "            \"USD\"\n",
      "        ],\n",
      "        \"Sector\": [\n",
      "            \"Technology\",\n",
      "            \"Consumer Defensive\"\n",
      "        ],\n",
      "        \"Industry\": [\n",
      "            \"Software-Infrastructure\",\n",
      "            \"Discount Stores\"\n",
      "        ],\n",
      "        \"Description\": [\n",
      "            \"Microsoft Corporation develops, licenses, and supports software, services, devices, and solutions worldwide. The company operates in three segments: Productivity and Business Processes, Intelligent Cloud, and More Personal Computing. The Productivity and Business Processes segment offers Office, Exchange, SharePoint, Microsoft Teams, Office 365 Security and Compliance, Microsoft Viva, and Skype for Business; Skype, Outlook.com, OneDrive, and LinkedIn; and Dynamics 365, a set of cloud-based and on-premises business solutions for organizations and enterprise divisions. The Intelligent Cloud segment licenses SQL, Windows Servers, Visual Studio, System Center, and related Client Access Licenses; GitHub that provides a collaboration platform and code hosting service for developers; Nuance provides healthcare and enterprise AI solutions; and Azure, a cloud platform. It also offers enterprise support, Microsoft consulting, and nuance professional services to assist customers in developing, deploying, and managing Microsoft server and desktop solutions; and training and certification on Microsoft products. The More Personal Computing segment provides Windows original equipment manufacturer (OEM) licensing and other non-volume licensing of the Windows operating system; Windows Commercial, such as volume licensing of the Windows operating system, Windows cloud services, and other Windows commercial offerings; patent licensing; and Windows Internet of Things. It also offers Surface, PC accessories, PCs, tablets, gaming and entertainment consoles, and other devices; Gaming, including Xbox hardware, and Xbox content and services; video games and third-party video game royalties; and Search, including Bing and Microsoft advertising. The company sells its products through OEMs, distributors, and resellers; and directly through digital marketplaces, online stores, and retail stores. Microsoft Corporation was founded in 1975 and is headquartered in Redmond, Washington.\",\n",
      "            \"Costco Wholesale Corporation, together with its subsidiaries, engages in the operation of membership warehouses in the United States, Puerto Rico, Canada, the United Kingdom, Mexico, Japan, Korea, Australia, Spain, France, Iceland, China, and Taiwan. It offers branded and private-label products in a range of merchandise categories. The company offers sundries, dry groceries, candies, coolers, freezers, liquor, and tobacco and deli products; appliances, electronics, health and beauty aids, hardware, garden and patio products, sporting goods, tires, toys and seasonal products, office supplies, automotive care products, postages, tickets, apparel, small appliances, furniture, domestics, housewares, special order kiosks, and jewelry; and meat, produce, service deli, and bakery products. It also operates pharmacies, opticals, food courts, hearing-aid centers, and tire installation centers, gas stations; and offers business delivery, travel, same-day grocery, and various other services online in various countries. The company has warehouses in the United States, Puerto Rico, Canada, Mexico, Japan, the United Kingdom, South Korea, Taiwan, Australia, Spain, Iceland, France, and China. It also operates e-commerce websites in the United States, Canada, the United Kingdom, Mexico, South Korea, Taiwan, Japan, and Australia. The company was formerly known as Costco Companies, Inc. and changed its name to Costco Wholesale Corporation in August 1999. Costco Wholesale Corporation was founded in 1976 and is based in Issaquah, Washington.\"\n",
      "        ],\n",
      "        \"CEO\": [\n",
      "            {\n",
      "                \"Name\": \"Mr. Satya  Nadella\",\n",
      "                \"Title\": \"Chairman & CEO\",\n",
      "                \"YearBorn\": \"1967\"\n",
      "            },\n",
      "            {\n",
      "                \"Name\": \"Mr. W. Craig Jelinek\",\n",
      "                \"Title\": \"CEO & Director\",\n",
      "                \"YearBorn\": \"1952\"\n",
      "            }\n",
      "        ],\n",
      "        \"IPODate\": [\n",
      "            \"1986-03-13\",\n",
      "            \"1993-09-22\"\n",
      "        ],\n",
      "        \"Country\": [\n",
      "            \"United States\",\n",
      "            \"United States\"\n",
      "        ],\n",
      "        \"City\": [\n",
      "            \"Redmond\",\n",
      "            \"Issaquah\"\n",
      "        ]\n",
      "    }\n",
      "}\n",
      "\n",
      "I reviewed Microsoft's annual financial statements for . I looked at the income statement to find the operating income and depreciation/amortization expenses. By adding these two figures together, I was able to calculate the EBITDA for Microsoft for the entire year of .\n",
      "\n",
      "SELECT \n",
      "    SUM(i.ebitda)\n",
      "FROM \n",
      "    income_statement i\n",
      "JOIN \n",
      "    companies c ON c.company_id = i.company_id\n",
      "WHERE \n",
      "    c.name ILIKE '%Microsoft%' \n",
      "    AND EXTRACT(YEAR FROM i.date) = 2018;\n",
      "\n",
      "{\n",
      "    \"Sum\": [\n",
      "        53694000000\n",
      "    ]\n",
      "}\n",
      "\n"
     ]
    }
   ],
   "source": [
    "# Run the function with the question as an argument\n",
    "question = \"\"\"\n",
    "Now I want to see the same but for Microsoft, and please provide a single value for the whole year.\n",
    "\"\"\"\n",
    "await main(question)"
   ]
  },
  {
   "cell_type": "code",
   "execution_count": 30,
   "metadata": {},
   "outputs": [
    {
     "data": {
      "text/plain": [
       "[{'role': 'user', 'content': '\\nWhat was Apple ebitda in 2018?\\n'},\n",
       " {'role': 'assistant',\n",
       "  'content': \"\\n\\nI reviewed Apple's annual financial statements for . Specifically, I looked at the income statement to find the operating income and depreciation/amortization expenses. By adding these two figures together, I was able to calculate the EBITDA for Apple in .\\n\\nSELECT \\n    i.ebitda\\nFROM \\n    income_statement i\\nJOIN \\n    companies c ON c.company_id = i.company_id\\nWHERE \\n    c.name ILIKE '%Apple%' \\n    AND EXTRACT(YEAR FROM i.date) = 2018;\"},\n",
       " {'role': 'user',\n",
       "  'content': '\\nNow I want to see the same but for Microsoft, and please provide a single value for the whole year.\\n'},\n",
       " {'role': 'assistant',\n",
       "  'content': \"\\n\\nI reviewed Microsoft's annual financial statements for . I looked at the income statement to find the operating income and depreciation/amortization expenses. By adding these two figures together, I was able to calculate the EBITDA for Microsoft for the entire year of .\\n\\nSELECT \\n    SUM(i.ebitda)\\nFROM \\n    income_statement i\\nJOIN \\n    companies c ON c.company_id = i.company_id\\nWHERE \\n    c.name ILIKE '%Microsoft%' \\n    AND EXTRACT(YEAR FROM i.date) = 2018;\"}]"
      ]
     },
     "execution_count": 30,
     "metadata": {},
     "output_type": "execute_result"
    }
   ],
   "source": [
    "message_history"
   ]
  },
  {
   "attachments": {},
   "cell_type": "markdown",
   "metadata": {},
   "source": [
    "## EOD data test"
   ]
  },
  {
   "cell_type": "code",
   "execution_count": null,
   "metadata": {},
   "outputs": [],
   "source": [
    "from eod import EodHistoricalData\n",
    "from coworker.config.keys import EOD_KEY\n",
    "import json\n",
    "import re\n",
    "\n",
    "client = EodHistoricalData(EOD_KEY)\n",
    "\n",
    "with open('coworker/data/companies.json', 'r') as f:\n",
    "    companies_dict = json.load(f)"
   ]
  },
  {
   "cell_type": "code",
   "execution_count": null,
   "metadata": {},
   "outputs": [],
   "source": [
    "def get_info_from_text(text):\n",
    "    text = re.sub('[^A-Za-z0-9& ]+', '', text)  # remove special characters\n",
    "    words_company = [word for word in text.split(' ') if len(word) >= 4]\n",
    "    words_ticker = [word for word in text.split(' ') if len(word) >= 2]\n",
    "    \n",
    "    tickers = []\n",
    "    for word in words_company:\n",
    "        for company, ticker in companies_dict.items():\n",
    "            if word.lower() in company.lower():\n",
    "                if ticker not in tickers:  # to avoid duplicate entries\n",
    "                    tickers.append(ticker)\n",
    "    \n",
    "    for word in words_ticker:\n",
    "        for company, ticker in companies_dict.items():\n",
    "            if word == ticker:\n",
    "                if ticker not in tickers:  # to avoid duplicate entries\n",
    "                    tickers.append(ticker)\n",
    "\n",
    "    info_dict = {\n",
    "        'Code': [],\n",
    "        'Name': [],\n",
    "        'Exchange': [],\n",
    "        'CurrencyCode': [],\n",
    "        'Sector': [],\n",
    "        'Industry': [],\n",
    "        'Description': [],\n",
    "        'CEO': [],\n",
    "        'IPODate': [],\n",
    "        'Country': [],\n",
    "        'City': []\n",
    "    }\n",
    "\n",
    "    for ticker in tickers:\n",
    "        info = client.get_fundamental_equity(ticker, filter_='General')\n",
    "        \n",
    "        info_dict['Code'].append(info['Code'])\n",
    "        info_dict['Name'].append(info['Name'])\n",
    "        info_dict['Exchange'].append(info['Exchange'])\n",
    "        info_dict['CurrencyCode'].append(info['CurrencyCode'])\n",
    "        info_dict['Sector'].append(info['Sector'])\n",
    "        info_dict['Industry'].append(info['Industry'])\n",
    "        info_dict['Description'].append(info['Description'])\n",
    "        info_dict['CEO'].append(info['Officers']['0'])\n",
    "        info_dict['IPODate'].append(info['IPODate'])\n",
    "        info_dict['Country'].append(info['AddressData']['Country'])\n",
    "        info_dict['City'].append(info['AddressData']['City'])\n",
    "\n",
    "    return info_dict"
   ]
  },
  {
   "cell_type": "code",
   "execution_count": null,
   "metadata": {},
   "outputs": [],
   "source": [
    "text = \"I would like to see assets and liabilities for Apple, Amazon! and Microsoft and Zoom - Blizzard, ASML, ABT, at&t! ACCENTURE, Costco\"\n",
    "get_info_from_text(text)"
   ]
  },
  {
   "cell_type": "code",
   "execution_count": null,
   "metadata": {},
   "outputs": [],
   "source": []
  }
 ],
 "metadata": {
  "kernelspec": {
   "display_name": "coworker-M5fFh2io",
   "language": "python",
   "name": "python3"
  },
  "language_info": {
   "codemirror_mode": {
    "name": "ipython",
    "version": 3
   },
   "file_extension": ".py",
   "mimetype": "text/x-python",
   "name": "python",
   "nbconvert_exporter": "python",
   "pygments_lexer": "ipython3",
   "version": "3.11.3"
  },
  "orig_nbformat": 4
 },
 "nbformat": 4,
 "nbformat_minor": 2
}
